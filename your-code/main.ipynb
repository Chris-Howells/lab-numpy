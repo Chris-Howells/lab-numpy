{
 "cells": [
  {
   "cell_type": "markdown",
   "metadata": {},
   "source": [
    "# Intrduction to NumPy\n",
    "\n",
    "\n",
    "#### 1. Import NumPy under the name np."
   ]
  },
  {
   "cell_type": "code",
   "execution_count": 57,
   "metadata": {},
   "outputs": [],
   "source": [
    "# your code here\n",
    "\n",
    "import numpy as np\n"
   ]
  },
  {
   "cell_type": "markdown",
   "metadata": {},
   "source": [
    "#### 2. Print your NumPy version."
   ]
  },
  {
   "cell_type": "code",
   "execution_count": 58,
   "metadata": {},
   "outputs": [
    {
     "name": "stdout",
     "output_type": "stream",
     "text": [
      "1.18.5\n"
     ]
    }
   ],
   "source": [
    "# your code here\n",
    "\n",
    "print(np.__version__)\n"
   ]
  },
  {
   "cell_type": "markdown",
   "metadata": {},
   "source": [
    "#### 3. Generate a 2x3x5 3-dimensional array with random values. Assign the array to variable *a*.\n",
    "**Challenge**: there are at least three easy ways that use numpy to generate random arrays. How many ways can you find?"
   ]
  },
  {
   "cell_type": "code",
   "execution_count": 59,
   "metadata": {},
   "outputs": [
    {
     "name": "stdout",
     "output_type": "stream",
     "text": [
      "[[[0.459486   0.4609384  0.93852018 0.29238009 0.37226617]\n",
      "  [0.2256391  0.04578295 0.54566505 0.71486001 0.32070229]\n",
      "  [0.96501385 0.55743905 0.17180879 0.22354125 0.58883765]]\n",
      "\n",
      " [[0.79599245 0.96999129 0.47018979 0.49031163 0.49381829]\n",
      "  [0.47775555 0.9823676  0.86069627 0.0784845  0.09638725]\n",
      "  [0.17392958 0.91260046 0.76443187 0.55707911 0.170903  ]]]\n"
     ]
    }
   ],
   "source": [
    "# Method 1\n",
    "\n",
    "\n",
    "a = np.random.random((2,3,5))\n",
    "print(a)\n"
   ]
  },
  {
   "cell_type": "code",
   "execution_count": 60,
   "metadata": {},
   "outputs": [
    {
     "name": "stdout",
     "output_type": "stream",
     "text": [
      "[[[0.51793464 0.94194266 0.90854572 0.46034302 0.32354635]\n",
      "  [0.17280484 0.71506232 0.42132588 0.70526205 0.34048549]\n",
      "  [0.44662063 0.61679264 0.92900071 0.04442037 0.11625368]]\n",
      "\n",
      " [[0.23046473 0.90947506 0.64149861 0.53431177 0.99531719]\n",
      "  [0.21927995 0.5363986  0.5598549  0.5127198  0.22097285]\n",
      "  [0.54889358 0.30567627 0.42431763 0.58997228 0.09280054]]]\n"
     ]
    }
   ],
   "source": [
    "# Method 2\n",
    "\n",
    "from numpy import random\n",
    "\n",
    "x = random.rand(2, 3, 5)\n",
    "\n",
    "print(x)\n",
    "\n"
   ]
  },
  {
   "cell_type": "code",
   "execution_count": 10,
   "metadata": {},
   "outputs": [
    {
     "name": "stdout",
     "output_type": "stream",
     "text": [
      "[[[2 5 3 5 2]\n",
      "  [3 5 3 3 3]\n",
      "  [2 3 5 3 3]]\n",
      "\n",
      " [[5 3 2 5 2]\n",
      "  [5 5 3 3 5]\n",
      "  [3 2 2 3 2]]]\n"
     ]
    }
   ],
   "source": [
    "# Method 3\n",
    "\n",
    "\n",
    "x = random.choice([2, 3, 5], size=(2,3,5))\n",
    "\n",
    "print(x)\n"
   ]
  },
  {
   "cell_type": "code",
   "execution_count": 17,
   "metadata": {},
   "outputs": [
    {
     "name": "stdout",
     "output_type": "stream",
     "text": [
      "[[[0.58231521 0.58231521 0.58231521 0.58231521 0.58231521]\n",
      "  [0.58231521 0.58231521 0.58231521 0.58231521 0.58231521]\n",
      "  [0.58231521 0.58231521 0.58231521 0.58231521 0.58231521]]\n",
      "\n",
      " [[0.58231521 0.58231521 0.58231521 0.58231521 0.58231521]\n",
      "  [0.58231521 0.58231521 0.58231521 0.58231521 0.58231521]\n",
      "  [0.58231521 0.58231521 0.58231521 0.58231521 0.58231521]]]\n"
     ]
    }
   ],
   "source": [
    "#method \n",
    "y = np.full((2,3,5), np.random.random())\n",
    "print(y)"
   ]
  },
  {
   "cell_type": "markdown",
   "metadata": {},
   "source": [
    "#### 4. Print *a*.\n"
   ]
  },
  {
   "cell_type": "code",
   "execution_count": 61,
   "metadata": {},
   "outputs": [
    {
     "name": "stdout",
     "output_type": "stream",
     "text": [
      "[[[0.459486   0.4609384  0.93852018 0.29238009 0.37226617]\n",
      "  [0.2256391  0.04578295 0.54566505 0.71486001 0.32070229]\n",
      "  [0.96501385 0.55743905 0.17180879 0.22354125 0.58883765]]\n",
      "\n",
      " [[0.79599245 0.96999129 0.47018979 0.49031163 0.49381829]\n",
      "  [0.47775555 0.9823676  0.86069627 0.0784845  0.09638725]\n",
      "  [0.17392958 0.91260046 0.76443187 0.55707911 0.170903  ]]]\n"
     ]
    }
   ],
   "source": [
    "# your code here\n",
    "print(a)"
   ]
  },
  {
   "cell_type": "markdown",
   "metadata": {},
   "source": [
    "#### 5. Create a 5x2x3 3-dimensional array with all values equaling 1. Assign the array to variable *b*."
   ]
  },
  {
   "cell_type": "code",
   "execution_count": 38,
   "metadata": {},
   "outputs": [],
   "source": [
    "# your code here\n",
    "\n",
    "\n",
    "\n",
    "b = random.choice([1], size=(5,2,3))\n"
   ]
  },
  {
   "cell_type": "markdown",
   "metadata": {},
   "source": [
    "#### 6. Print *b*.\n"
   ]
  },
  {
   "cell_type": "code",
   "execution_count": 39,
   "metadata": {},
   "outputs": [
    {
     "name": "stdout",
     "output_type": "stream",
     "text": [
      "[[[1 1 1]\n",
      "  [1 1 1]]\n",
      "\n",
      " [[1 1 1]\n",
      "  [1 1 1]]\n",
      "\n",
      " [[1 1 1]\n",
      "  [1 1 1]]\n",
      "\n",
      " [[1 1 1]\n",
      "  [1 1 1]]\n",
      "\n",
      " [[1 1 1]\n",
      "  [1 1 1]]]\n"
     ]
    }
   ],
   "source": [
    "# your code here\n",
    "\n",
    "print(b)"
   ]
  },
  {
   "cell_type": "markdown",
   "metadata": {},
   "source": [
    "#### 7. Do *a* and *b* have the same size? How do you prove that in Python code?"
   ]
  },
  {
   "cell_type": "code",
   "execution_count": 40,
   "metadata": {},
   "outputs": [
    {
     "ename": "ValueError",
     "evalue": "operands could not be broadcast together with shapes (2,3,5) (5,2,3) ",
     "output_type": "error",
     "traceback": [
      "\u001b[1;31m---------------------------------------------------------------------------\u001b[0m",
      "\u001b[1;31mValueError\u001b[0m                                Traceback (most recent call last)",
      "\u001b[1;32m<ipython-input-40-61cd7d6e90de>\u001b[0m in \u001b[0;36m<module>\u001b[1;34m\u001b[0m\n\u001b[0;32m      1\u001b[0m \u001b[1;31m# your code here\u001b[0m\u001b[1;33m\u001b[0m\u001b[1;33m\u001b[0m\u001b[1;33m\u001b[0m\u001b[0m\n\u001b[0;32m      2\u001b[0m \u001b[1;33m\u001b[0m\u001b[0m\n\u001b[1;32m----> 3\u001b[1;33m \u001b[0ma_and_b\u001b[0m \u001b[1;33m=\u001b[0m \u001b[0ma\u001b[0m \u001b[1;33m+\u001b[0m \u001b[0mb\u001b[0m\u001b[1;33m\u001b[0m\u001b[1;33m\u001b[0m\u001b[0m\n\u001b[0m\u001b[0;32m      4\u001b[0m \u001b[0mprint\u001b[0m\u001b[1;33m(\u001b[0m\u001b[0ma_and_b\u001b[0m\u001b[1;33m)\u001b[0m\u001b[1;33m\u001b[0m\u001b[1;33m\u001b[0m\u001b[0m\n",
      "\u001b[1;31mValueError\u001b[0m: operands could not be broadcast together with shapes (2,3,5) (5,2,3) "
     ]
    }
   ],
   "source": [
    "# your code here\n",
    "\n",
    "a_and_b = a + b\n",
    "print(a_and_b)"
   ]
  },
  {
   "cell_type": "markdown",
   "metadata": {},
   "source": [
    "#### 8. Are you able to add *a* and *b*? Why or why not?\n"
   ]
  },
  {
   "cell_type": "code",
   "execution_count": null,
   "metadata": {},
   "outputs": [],
   "source": [
    "# your answer here\n",
    "\n",
    "#No, because they are the same size/dimensions/shape"
   ]
  },
  {
   "cell_type": "markdown",
   "metadata": {},
   "source": [
    "#### 9. Transpose *b* so that it has the same structure of *a* (i.e. become a 2x3x5 array). Assign the transposed array to variable *c*."
   ]
  },
  {
   "cell_type": "code",
   "execution_count": 45,
   "metadata": {},
   "outputs": [
    {
     "name": "stdout",
     "output_type": "stream",
     "text": [
      "[[[1 1 1 1 1]\n",
      "  [1 1 1 1 1]\n",
      "  [1 1 1 1 1]]\n",
      "\n",
      " [[1 1 1 1 1]\n",
      "  [1 1 1 1 1]\n",
      "  [1 1 1 1 1]]]\n"
     ]
    }
   ],
   "source": [
    "# your code here\n",
    "\n",
    "c = np.transpose(b).reshape((2,3,5))\n",
    "\n",
    "print(c)"
   ]
  },
  {
   "cell_type": "markdown",
   "metadata": {},
   "source": [
    "#### 10. Try to add *a* and *c*. Now it should work. Assign the sum to variable *d*. But why does it work now?"
   ]
  },
  {
   "cell_type": "code",
   "execution_count": 64,
   "metadata": {},
   "outputs": [
    {
     "name": "stdout",
     "output_type": "stream",
     "text": [
      "[[[0.459486   0.4609384  0.93852018 0.29238009 0.37226617]\n",
      "  [0.2256391  0.04578295 0.54566505 0.71486001 0.32070229]\n",
      "  [0.96501385 0.55743905 0.17180879 0.22354125 0.58883765]]\n",
      "\n",
      " [[0.79599245 0.96999129 0.47018979 0.49031163 0.49381829]\n",
      "  [0.47775555 0.9823676  0.86069627 0.0784845  0.09638725]\n",
      "  [0.17392958 0.91260046 0.76443187 0.55707911 0.170903  ]]]\n",
      "[[[1.459486   1.4609384  1.93852018 1.29238009 1.37226617]\n",
      "  [1.2256391  1.04578295 1.54566505 1.71486001 1.32070229]\n",
      "  [1.96501385 1.55743905 1.17180879 1.22354125 1.58883765]]\n",
      "\n",
      " [[1.79599245 1.96999129 1.47018979 1.49031163 1.49381829]\n",
      "  [1.47775555 1.9823676  1.86069627 1.0784845  1.09638725]\n",
      "  [1.17392958 1.91260046 1.76443187 1.55707911 1.170903  ]]]\n"
     ]
    }
   ],
   "source": [
    "# your code/answer here\n",
    "\n",
    "print(a)\n",
    "d = a + c\n",
    "print(d)\n",
    "\n",
    "#It works becasue the arrays are the same shape/size/dimension\n",
    "\n"
   ]
  },
  {
   "cell_type": "markdown",
   "metadata": {},
   "source": [
    "#### 11. Print *a* and *d*. Notice the difference and relation of the two array in terms of the values? Explain."
   ]
  },
  {
   "cell_type": "code",
   "execution_count": 65,
   "metadata": {},
   "outputs": [
    {
     "name": "stdout",
     "output_type": "stream",
     "text": [
      "[[[0.459486   0.4609384  0.93852018 0.29238009 0.37226617]\n",
      "  [0.2256391  0.04578295 0.54566505 0.71486001 0.32070229]\n",
      "  [0.96501385 0.55743905 0.17180879 0.22354125 0.58883765]]\n",
      "\n",
      " [[0.79599245 0.96999129 0.47018979 0.49031163 0.49381829]\n",
      "  [0.47775555 0.9823676  0.86069627 0.0784845  0.09638725]\n",
      "  [0.17392958 0.91260046 0.76443187 0.55707911 0.170903  ]]]\n",
      "[[[1.459486   1.4609384  1.93852018 1.29238009 1.37226617]\n",
      "  [1.2256391  1.04578295 1.54566505 1.71486001 1.32070229]\n",
      "  [1.96501385 1.55743905 1.17180879 1.22354125 1.58883765]]\n",
      "\n",
      " [[1.79599245 1.96999129 1.47018979 1.49031163 1.49381829]\n",
      "  [1.47775555 1.9823676  1.86069627 1.0784845  1.09638725]\n",
      "  [1.17392958 1.91260046 1.76443187 1.55707911 1.170903  ]]]\n"
     ]
    }
   ],
   "source": [
    "# your code/answer here\n",
    "\n",
    "print(a)\n",
    "\n",
    "\n",
    "print(d)\n",
    "\n",
    "#d is a + 1"
   ]
  },
  {
   "cell_type": "markdown",
   "metadata": {},
   "source": [
    "#### 12. Multiply *a* and *c*. Assign the result to *e*."
   ]
  },
  {
   "cell_type": "code",
   "execution_count": 70,
   "metadata": {},
   "outputs": [
    {
     "name": "stdout",
     "output_type": "stream",
     "text": [
      "[[[0.459486   0.4609384  0.93852018 0.29238009 0.37226617]\n",
      "  [0.2256391  0.04578295 0.54566505 0.71486001 0.32070229]\n",
      "  [0.96501385 0.55743905 0.17180879 0.22354125 0.58883765]]\n",
      "\n",
      " [[0.79599245 0.96999129 0.47018979 0.49031163 0.49381829]\n",
      "  [0.47775555 0.9823676  0.86069627 0.0784845  0.09638725]\n",
      "  [0.17392958 0.91260046 0.76443187 0.55707911 0.170903  ]]]\n"
     ]
    }
   ],
   "source": [
    "# your code here\n",
    "\n",
    "e = a * c\n",
    "print(e)"
   ]
  },
  {
   "cell_type": "markdown",
   "metadata": {},
   "source": [
    "#### 13. Does *e* equal to *a*? Why or why not?\n"
   ]
  },
  {
   "cell_type": "code",
   "execution_count": 71,
   "metadata": {},
   "outputs": [
    {
     "name": "stdout",
     "output_type": "stream",
     "text": [
      "True\n"
     ]
    },
    {
     "data": {
      "text/plain": [
       "array([[[ True,  True,  True,  True,  True],\n",
       "        [ True,  True,  True,  True,  True],\n",
       "        [ True,  True,  True,  True,  True]],\n",
       "\n",
       "       [[ True,  True,  True,  True,  True],\n",
       "        [ True,  True,  True,  True,  True],\n",
       "        [ True,  True,  True,  True,  True]]])"
      ]
     },
     "execution_count": 71,
     "metadata": {},
     "output_type": "execute_result"
    }
   ],
   "source": [
    "# your code/answer here\n",
    "\n",
    "print(e.shape == a.shape)\n",
    "e.shape\n",
    "\n",
    "e == a\n",
    "#It's not true because all the values equal each other as tehy're multiplied by one"
   ]
  },
  {
   "cell_type": "markdown",
   "metadata": {},
   "source": [
    "#### 14. Identify the max, min, and mean values in *d*. Assign those values to variables *d_max*, *d_min* and *d_mean*."
   ]
  },
  {
   "cell_type": "code",
   "execution_count": 79,
   "metadata": {},
   "outputs": [
    {
     "name": "stdout",
     "output_type": "stream",
     "text": [
      "1.9823676024308245\n",
      "1.0457829492842143\n",
      "1.5059273150430599\n"
     ]
    }
   ],
   "source": [
    "# your code here\n",
    "\n",
    "d_max = np.amax(d)\n",
    "print(d_max)\n",
    "\n",
    "d_min = np.amin(d)\n",
    "print(d_min)\n",
    "\n",
    "d_mean = np.mean(d)\n",
    "print(d_mean)"
   ]
  },
  {
   "cell_type": "markdown",
   "metadata": {},
   "source": [
    "#### 15. Now we want to label the values in *d*. First create an empty array *f* with the same shape (i.e. 2x3x5) as *d* using `np.empty`.\n"
   ]
  },
  {
   "cell_type": "code",
   "execution_count": 83,
   "metadata": {},
   "outputs": [
    {
     "name": "stdout",
     "output_type": "stream",
     "text": [
      "[[[0.459486   0.4609384  0.93852018 0.29238009 0.37226617]\n",
      "  [0.2256391  0.04578295 0.54566505 0.71486001 0.32070229]\n",
      "  [0.96501385 0.55743905 0.17180879 0.22354125 0.58883765]]\n",
      "\n",
      " [[0.79599245 0.96999129 0.47018979 0.49031163 0.49381829]\n",
      "  [0.47775555 0.9823676  0.86069627 0.0784845  0.09638725]\n",
      "  [0.17392958 0.91260046 0.76443187 0.55707911 0.170903  ]]]\n"
     ]
    }
   ],
   "source": [
    "# your code here\n",
    "\n",
    "f = np.empty([2,3,5])\n",
    "\n",
    "print(f)"
   ]
  },
  {
   "cell_type": "markdown",
   "metadata": {},
   "source": [
    "#### 16. Populate the values in *f*. \n",
    "\n",
    "For each value in *d*, if it's larger than *d_min* but smaller than *d_mean*, assign 25 to the corresponding value in *f*. If a value in *d* is larger than *d_mean* but smaller than *d_max*, assign 75 to the corresponding value in *f*. If a value equals to *d_mean*, assign 50 to the corresponding value in *f*. Assign 0 to the corresponding value(s) in *f* for *d_min* in *d*. Assign 100 to the corresponding value(s) in *f* for *d_max* in *d*. In the end, f should have only the following values: 0, 25, 50, 75, and 100.\n",
    "\n",
    "**Note**: you don't have to use Numpy in this question."
   ]
  },
  {
   "cell_type": "code",
   "execution_count": 91,
   "metadata": {},
   "outputs": [
    {
     "name": "stdout",
     "output_type": "stream",
     "text": [
      "[[[1.459486   1.4609384  1.93852018 1.29238009 1.37226617]\n",
      "  [1.2256391  1.04578295 1.54566505 1.71486001 1.32070229]\n",
      "  [1.96501385 1.55743905 1.17180879 1.22354125 1.58883765]]\n",
      "\n",
      " [[1.79599245 1.96999129 1.47018979 1.49031163 1.49381829]\n",
      "  [1.47775555 1.9823676  1.86069627 1.0784845  1.09638725]\n",
      "  [1.17392958 1.91260046 1.76443187 1.55707911 1.170903  ]]]\n",
      "[[[ 25.  25.  75.  25.  25.]\n",
      "  [ 25.   0.  75.  75.  25.]\n",
      "  [ 75.  75.  25.  25.  75.]]\n",
      "\n",
      " [[ 75.  75.  25.  25.  25.]\n",
      "  [ 25. 100.  75.  25.  25.]\n",
      "  [ 25.  75.  75.  75.  25.]]]\n"
     ]
    }
   ],
   "source": [
    "# your code here\n",
    "\n",
    "\n",
    "f = np.where(d == d_max, 100, d)\n",
    "f = np.where(d < d_max, 75, f)\n",
    "f = np.where(d == d_mean, 50, f)\n",
    "f = np.where(d < d_mean, 25, f)\n",
    "f = np.where(d == d_min, 0, f)\n",
    "\n",
    "print(d)\n",
    "print(f)"
   ]
  },
  {
   "cell_type": "markdown",
   "metadata": {},
   "source": [
    "#### 17. Print *d* and *f*. Do you have your expected *f*?\n",
    "For instance, if your *d* is:\n",
    "```python\n",
    "[[[1.85836099, 1.67064465, 1.62576044, 1.40243961, 1.88454931],\n",
    "[1.75354326, 1.69403643, 1.36729252, 1.61415071, 1.12104981],\n",
    "[1.72201435, 1.1862918 , 1.87078449, 1.7726778 , 1.88180042]],\n",
    "[[1.44747908, 1.31673383, 1.02000951, 1.52218947, 1.97066381],\n",
    "[1.79129243, 1.74983003, 1.96028037, 1.85166831, 1.65450881],\n",
    "[1.18068344, 1.9587381 , 1.00656599, 1.93402165, 1.73514584]]]\n",
    "```\n",
    "Your *f* should be:\n",
    "```python\n",
    "[[[ 75.,  75.,  75.,  25.,  75.],\n",
    "[ 75.,  75.,  25.,  25.,  25.],\n",
    "[ 75.,  25.,  75.,  75.,  75.]],\n",
    "[[ 25.,  25.,  25.,  25., 100.],\n",
    "[ 75.,  75.,  75.,  75.,  75.],\n",
    "[ 25.,  75.,   0.,  75.,  75.]]]\n",
    "```"
   ]
  },
  {
   "cell_type": "code",
   "execution_count": null,
   "metadata": {},
   "outputs": [],
   "source": [
    "# your code here"
   ]
  },
  {
   "cell_type": "markdown",
   "metadata": {},
   "source": [
    "#### 18. Bonus question: instead of using numbers (i.e. 0, 25, 50, 75, and 100), use string values  (\"A\", \"B\", \"C\", \"D\", and \"E\") to label the array elements. For the example above, the expected result is:\n",
    "\n",
    "```python\n",
    "[[[ 'D',  'D',  'D',  'B',  'D'],\n",
    "[ 'D',  'D',  'B',  'B',  'B'],\n",
    "[ 'D',  'B',  'D',  'D',  'D']],\n",
    "[[ 'B',  'B',  'B',  'B',  'E'],\n",
    "[ 'D',  'D',  'D',  'D',  'D'],\n",
    "[ 'B',  'D',   'A',  'D', 'D']]]\n",
    "```\n",
    "**Note**: you don't have to use Numpy in this question."
   ]
  },
  {
   "cell_type": "code",
   "execution_count": null,
   "metadata": {},
   "outputs": [],
   "source": [
    "# your code here"
   ]
  }
 ],
 "metadata": {
  "kernelspec": {
   "display_name": "Python 3",
   "language": "python",
   "name": "python3"
  },
  "language_info": {
   "codemirror_mode": {
    "name": "ipython",
    "version": 3
   },
   "file_extension": ".py",
   "mimetype": "text/x-python",
   "name": "python",
   "nbconvert_exporter": "python",
   "pygments_lexer": "ipython3",
   "version": "3.8.3"
  }
 },
 "nbformat": 4,
 "nbformat_minor": 2
}
